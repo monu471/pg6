{
 "cells": [
  {
   "cell_type": "code",
   "execution_count": null,
   "id": "8d60270e",
   "metadata": {},
   "outputs": [],
   "source": [
    "# 1. What are escape characters, and how do you use them?\n",
    "To insert characters that are illegal in a string, use an escape character.\n",
    "\\' Single Quote\n",
    "\\\\ Backslash\n",
    "\\n New Line\n",
    "\\r Carriage Return\n",
    "\\t Tab\n",
    "\\b Backspace\n",
    "\\f Form Feed\n",
    "\\ooo Octal value\n",
    "\\xhh Hex value"
   ]
  },
  {
   "cell_type": "code",
   "execution_count": null,
   "id": "6e1bdeb8",
   "metadata": {},
   "outputs": [],
   "source": [
    "# What do the escape characters n and t stand for?\n",
    "\\n New Line\n",
    "\\t Tab"
   ]
  },
  {
   "cell_type": "code",
   "execution_count": null,
   "id": "d18f79da",
   "metadata": {},
   "outputs": [],
   "source": [
    "# What is the way to include backslash characters in a string?\n",
    "# a = \"my name is \"monu\" joshi \"  this give us error so we write as\n",
    "a  = \"my name is\\\"monu joshi\\\" \"\n",
    "print(a)"
   ]
  },
  {
   "cell_type": "code",
   "execution_count": null,
   "id": "cc518d29",
   "metadata": {},
   "outputs": [],
   "source": [
    "# The string \"Howl's Moving Castle\" is a correct value. Why isn't the single quote character in the word Howl's not escaped a problem?\n",
    "string = \"Howl's Moving Castle\" \n",
    "print(string)\n",
    "# not gives error b/c here single quote treat as part of word howls b/c whole string quote inside in double quote"
   ]
  },
  {
   "cell_type": "code",
   "execution_count": null,
   "id": "1540840b",
   "metadata": {},
   "outputs": [],
   "source": [
    "# How do you write a string of newlines if you don't want to use the n character?\n",
    "a = \"what are doing is\\n is waste of time\"\n",
    "print(a)"
   ]
  },
  {
   "cell_type": "code",
   "execution_count": null,
   "id": "827b7ee7",
   "metadata": {},
   "outputs": [],
   "source": [
    "#  What are the values of the given expressions?\n",
    "# 'Hello, world!'[1]\n",
    "# 'Hello, world!'[0:5]\n",
    "# 'Hello, world!'[:5]\n",
    "# 'Hello, world!'[3:]\n",
    "a = \"Hello, world!\"\n",
    "a[1] = \"e\"\n",
    "a[0:5] = 'Hello'\n",
    "a[3:]= lo, world!'"
   ]
  },
  {
   "cell_type": "code",
   "execution_count": null,
   "id": "b9760c34",
   "metadata": {},
   "outputs": [],
   "source": [
    "# What are the values of the following expressions?\n",
    "'Hello'.upper()= 'HELLO'\n",
    "'Hello'.upper().isupper()= True\n",
    "'Hello'.upper().lower() = 'hello'\n"
   ]
  },
  {
   "cell_type": "code",
   "execution_count": 2,
   "id": "673f04f7",
   "metadata": {},
   "outputs": [
    {
     "data": {
      "text/plain": [
       "'There-can-only-one.'"
      ]
     },
     "execution_count": 2,
     "metadata": {},
     "output_type": "execute_result"
    }
   ],
   "source": [
    "# What are the values of the following expressions?\n",
    "'Remember, remember, the fifth of July.'.split()= ['Remember,', 'remember,', 'the', 'fifth', 'of', 'July.']\n",
    "'-'.join('There can only one.'.split()) = 'There-can-only-one.'"
   ]
  },
  {
   "cell_type": "code",
   "execution_count": null,
   "id": "12042a07",
   "metadata": {},
   "outputs": [],
   "source": [
    "# What are the methods for right-justifying, left-justifying, and centering a string?\n",
    "right-justifying = rstr.rjust()\n",
    "left-justifying = lstr.ljust()\n",
    "centering = cstr.center()\n"
   ]
  },
  {
   "cell_type": "code",
   "execution_count": null,
   "id": "74db6250",
   "metadata": {},
   "outputs": [],
   "source": [
    "#  What is the best way to remove whitespace characters from the start or end?\n",
    "Use the .strip() method to remove whitespace and characters from the beginning and the end of a string.\n",
    "Use the .lstrip() method to remove whitespace and characters only from the beginning of a string.\n",
    "Use the .rstrip() method to remove whitespace and characters only from the end of a string."
   ]
  }
 ],
 "metadata": {
  "kernelspec": {
   "display_name": "Python 3 (ipykernel)",
   "language": "python",
   "name": "python3"
  },
  "language_info": {
   "codemirror_mode": {
    "name": "ipython",
    "version": 3
   },
   "file_extension": ".py",
   "mimetype": "text/x-python",
   "name": "python",
   "nbconvert_exporter": "python",
   "pygments_lexer": "ipython3",
   "version": "3.9.12"
  }
 },
 "nbformat": 4,
 "nbformat_minor": 5
}
